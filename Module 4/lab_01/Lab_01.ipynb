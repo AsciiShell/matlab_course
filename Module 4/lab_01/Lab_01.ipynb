{
 "cells": [
  {
   "cell_type": "code",
   "execution_count": 1,
   "metadata": {},
   "outputs": [],
   "source": [
    "import numpy as np\n",
    "import pandas as pd\n",
    "%matplotlib inline\n",
    "import matplotlib.pyplot as plt\n",
    "import matplotlib.patches as mpatches"
   ]
  },
  {
   "cell_type": "code",
   "execution_count": 2,
   "metadata": {},
   "outputs": [],
   "source": [
    "def default(x,t):\n",
    "    if t == 0:\n",
    "        return 0\n",
    "    elif x == 0:\n",
    "        return 0\n",
    "    elif x == 1:\n",
    "        return 0\n",
    "    return None"
   ]
  },
  {
   "cell_type": "code",
   "execution_count": 3,
   "metadata": {},
   "outputs": [],
   "source": [
    "def nan(shape):\n",
    "    a = np.empty(shape)\n",
    "    a[:] = np.nan\n",
    "    return a"
   ]
  },
  {
   "cell_type": "code",
   "execution_count": 4,
   "metadata": {},
   "outputs": [],
   "source": [
    "def print_matrix(x, n, m, w=10):\n",
    "    h = w * m /n\n",
    "    plt.figure(figsize=(w, h))\n",
    "    plt.title('Решения задачи теплопроводности')\n",
    "#     , interpolation='bicubic'\n",
    "    plt.imshow(x, aspect='auto', extent=[0, X_MAX, T_MAX, 0])\n",
    "    plt.set_cmap('hot')\n",
    "    plt.xlabel('X')\n",
    "    plt.ylabel('Время')\n",
    "\n",
    "    plt.colorbar()\n",
    "    plt.show()"
   ]
  },
  {
   "cell_type": "code",
   "execution_count": 5,
   "metadata": {},
   "outputs": [],
   "source": [
    "T_MAX = 0.5\n",
    "X_MAX = 1"
   ]
  },
  {
   "cell_type": "code",
   "execution_count": 6,
   "metadata": {},
   "outputs": [],
   "source": [
    "def create_matrix(nx, nt):\n",
    "    t_step = T_MAX/(nt - 1)\n",
    "    x_step = X_MAX/(nx - 1)\n",
    "#     ht = np.linspace(0,T_MAX,nt + 1)  \n",
    "#     hx = np.linspace(0,X_MAX,nx + 1)  \n",
    "    matrix = nan((nt,nx,))\n",
    "    for i in range(nx):\n",
    "        for j in range(nt):\n",
    "            matrix[j,i] = default(i * x_step, j * t_step)\n",
    "    return matrix,x_step,t_step"
   ]
  },
  {
   "cell_type": "code",
   "execution_count": 13,
   "metadata": {},
   "outputs": [],
   "source": [
    "def solve(X_samples,T_samples):\n",
    "    u,x_step,t_step = create_matrix(X_samples, T_samples)\n",
    "    for t in range(T_samples - 1):\n",
    "        A = t_step / x_step ** 2\n",
    "        B = t_step / x_step ** 2\n",
    "        C =  -1 -(2 * t_step / x_step ** 2)\n",
    "        F = lambda i:   - t*t_step*np.sinh(i*x_step)\n",
    "        alpha = nan(X_samples)\n",
    "        alpha[1] = -B/C\n",
    "        for i in range(1, X_samples - 1):\n",
    "            alpha[i + 1] = -B/(A*alpha[i] + C)\n",
    "        beta = nan(X_samples)\n",
    "        beta[1] = F(0)/C\n",
    "        for i in range(1, X_samples - 1):\n",
    "            beta[i + 1] = (F(i) - A*C)/(A*alpha[i] + C)\n",
    "#         u[t + 1, -2] = (F(-1) - A*C)/(C + A * alpha[-1])\n",
    "        for i in range(X_samples - 2, 0, -1):\n",
    "            u[t + 1, i] = alpha[i + 1] * u[t + 1, i + 1] + beta[i + 1]\n",
    "    print(np.isnan(u).sum())\n",
    "    return u"
   ]
  },
  {
   "cell_type": "code",
   "execution_count": 14,
   "metadata": {},
   "outputs": [
    {
     "name": "stdout",
     "output_type": "stream",
     "text": [
      "0\n"
     ]
    },
    {
     "data": {
      "image/png": "[encoded data removed]",
      "text/plain": [
       "<Figure size 720x720 with 2 Axes>"
      ]
     },
     "metadata": {
      "needs_background": "light"
     },
     "output_type": "display_data"
    }
   ],
   "source": [
    "X_samples = 100\n",
    "T_samples = 100\n",
    "u = solve(X_samples, T_samples)\n",
    "print_matrix(u, X_samples, T_samples)"
   ]
  },
  {
   "cell_type": "code",
   "execution_count": 9,
   "metadata": {},
   "outputs": [
    {
     "data": {
      "text/plain": [
       "0"
      ]
     },
     "execution_count": 9,
     "metadata": {},
     "output_type": "execute_result"
    }
   ],
   "source": [
    "np.isnan(u).sum()"
   ]
  },
  {
   "cell_type": "code",
   "execution_count": 10,
   "metadata": {},
   "outputs": [],
   "source": [
    "u[:,-3] = -100"
   ]
  },
  {
   "cell_type": "code",
   "execution_count": null,
   "metadata": {},
   "outputs": [],
   "source": []
  },
  {
   "cell_type": "code",
   "execution_count": null,
   "metadata": {},
   "outputs": [],
   "source": []
  },
  {
   "cell_type": "code",
   "execution_count": 11,
   "metadata": {},
   "outputs": [
    {
     "data": {
      "image/png": "[encoded data removed]",
      "text/plain": [
       "<Figure size 720x720 with 2 Axes>"
      ]
     },
     "metadata": {
      "needs_background": "light"
     },
     "output_type": "display_data"
    }
   ],
   "source": [
    "\n",
    "grid = np.array([[0, 1 , 2, 3],[4, 5 ,6, 7],[8, 9 , 10, 11]])\n",
    "print_matrix(grid, X_samples, T_samples)"
   ]
  },
  {
   "cell_type": "code",
   "execution_count": null,
   "metadata": {},
   "outputs": [],
   "source": []
  },
  {
   "cell_type": "code",
   "execution_count": 12,
   "metadata": {},
   "outputs": [
    {
     "data": {
      "text/plain": [
       "array([nan, nan, nan, nan])"
      ]
     },
     "execution_count": 12,
     "metadata": {},
     "output_type": "execute_result"
    }
   ],
   "source": [
    "nan((3,4))[0]"
   ]
  },
  {
   "cell_type": "code",
   "execution_count": null,
   "metadata": {},
   "outputs": [],
   "source": []
  }
 ],
 "metadata": {
  "kernelspec": {
   "display_name": "Python 3",
   "language": "python",
   "name": "python3"
  },
  "language_info": {
   "codemirror_mode": {
    "name": "ipython",
    "version": 3
   },
   "file_extension": ".py",
   "mimetype": "text/x-python",
   "name": "python",
   "nbconvert_exporter": "python",
   "pygments_lexer": "ipython3",
   "version": "3.7.1"
  }
 },
 "nbformat": 4,
 "nbformat_minor": 2
}
